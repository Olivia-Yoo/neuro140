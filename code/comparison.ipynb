{
 "cells": [
  {
   "attachments": {},
   "cell_type": "markdown",
   "metadata": {},
   "source": [
    "# RSA and Human/CNN comparison\n",
    "\n",
    "Olivia Yoo\n",
    "\n",
    "Neuro 140\n",
    "\n",
    "May 2, 2023"
   ]
  },
  {
   "cell_type": "code",
   "execution_count": 1,
   "metadata": {},
   "outputs": [],
   "source": [
    "%matplotlib inline\n",
    "import os\n",
    "import random\n",
    "import copy\n",
    "\n",
    "import pandas as pd\n",
    "import numpy as np\n",
    "import matplotlib.pyplot as plt\n",
    "\n",
    "from scipy.stats import spearmanr"
   ]
  },
  {
   "cell_type": "code",
   "execution_count": 2,
   "metadata": {},
   "outputs": [],
   "source": [
    "ROIS = np.arange(4)\n",
    "N_ROIS = 4\n",
    "ROI_NAMES = ['lFFA', 'rFFA', 'lPPA', 'rPPA']\n",
    "SUBJECTS = ['BE', 'KO', 'SN', 'TI']\n",
    "N_SUBJECTS = 4\n",
    "BINSIZE = [11, 12, 11, 12, 22, 24]\n",
    "ORDERED_CATEGORIES = ['human face', 'human body part', 'nonhuman face', 'nonhuman body part', 'natural inanimate', 'artificial inanimate']"
   ]
  },
  {
   "attachments": {},
   "cell_type": "markdown",
   "metadata": {},
   "source": [
    "# Import data"
   ]
  },
  {
   "cell_type": "code",
   "execution_count": 3,
   "metadata": {},
   "outputs": [],
   "source": [
    "# Human data\n",
    "HUMAN_PATH = os.path.dirname(os.getcwd()) + '/data/colab_data/human_data.npy'\n",
    "ALEXNET_PATH = os.path.dirname(os.getcwd()) + '/data/cnn_data/alexnet_rdms.npy'\n",
    "RN18_PATH = os.path.dirname(os.getcwd()) + '/data/cnn_data/rn18_rdms.npy'\n",
    "HUMAN_PERM_PATH = os.path.dirname(os.getcwd()) + '/data/colab_data/human_permuted.npz'\n",
    "RN34_PATH = os.path.dirname(os.getcwd()) + '/data/cnn_data/rn34_rdms.npy'\n",
    "RN50_PATH = os.path.dirname(os.getcwd()) + '/data/cnn_data/rn50_rdm.npy'\n",
    "RN50_MOD_PATH = os.path.dirname(os.getcwd()) + '/data/cnn_data/rn50_mod_rdm.npy'\n",
    "RN101_PATH = os.path.dirname(os.getcwd()) + '/data/cnn_data/rn101_rdm.npy'\n",
    "RN101_MOD_PATH = os.path.dirname(os.getcwd()) + '/data/cnn_data/rn101_mod_rdm.npy'\n",
    "RN152_PATH = os.path.dirname(os.getcwd()) + '/data/cnn_data/rn152_rdm.npy'\n",
    "RN152_MOD_PATH = os.path.dirname(os.getcwd()) + '/data/cnn_data/rn152_mod_rdm.npy'\n",
    "MAP_PATH = os.path.dirname(os.getcwd()) + '/data/mapping/'"
   ]
  },
  {
   "attachments": {},
   "cell_type": "markdown",
   "metadata": {},
   "source": [
    "Human data:\n",
    "- 2: 0 is RSM, 1 is RDM\n",
    "- 4: # subjects - BE, KO, SN, TI\n",
    "- 4: # ROIs - lFFA, rFFA, lPPA, rPPA\n",
    "- 92: # images\n",
    "- 92: # images"
   ]
  },
  {
   "cell_type": "code",
   "execution_count": 4,
   "metadata": {},
   "outputs": [
    {
     "data": {
      "text/plain": [
       "(4, 4, 92, 92)"
      ]
     },
     "execution_count": 4,
     "metadata": {},
     "output_type": "execute_result"
    }
   ],
   "source": [
    "human_data = np.load(HUMAN_PATH)\n",
    "human_rdms = human_data[1:][0]\n",
    "human_rdms.shape"
   ]
  },
  {
   "attachments": {},
   "cell_type": "markdown",
   "metadata": {},
   "source": [
    "Human permuted RDM data:\n",
    "- Indices: ROI names\n",
    "- Dimensions: 10000 bootstraps x 92 stimuli x 92 stimuli"
   ]
  },
  {
   "cell_type": "code",
   "execution_count": 5,
   "metadata": {},
   "outputs": [],
   "source": [
    "human_perm_data = np.load(HUMAN_PERM_PATH)\n",
    "human_perm_data = np.array([human_perm_data['lffa'], human_perm_data['rffa'],human_perm_data['lppa'], human_perm_data['rppa']])"
   ]
  },
  {
   "cell_type": "code",
   "execution_count": 6,
   "metadata": {},
   "outputs": [],
   "source": [
    "B = human_perm_data.shape[1]"
   ]
  },
  {
   "cell_type": "code",
   "execution_count": 7,
   "metadata": {},
   "outputs": [],
   "source": [
    "comb_human_perm_data = human_perm_data.reshape(40000, 92, 92)\n",
    "comb_B = comb_human_perm_data.shape[0]"
   ]
  },
  {
   "attachments": {},
   "cell_type": "markdown",
   "metadata": {},
   "source": [
    "Layer data:\n",
    "- 2: 0 is normal, 1 is modified images\n",
    "- X: number of layers\n",
    "- 92: # images\n",
    "- 92: # images"
   ]
  },
  {
   "cell_type": "code",
   "execution_count": 8,
   "metadata": {},
   "outputs": [
    {
     "data": {
      "text/plain": [
       "(2, 8, 92, 92)"
      ]
     },
     "execution_count": 8,
     "metadata": {},
     "output_type": "execute_result"
    }
   ],
   "source": [
    "alexnet_rdms = np.load(ALEXNET_PATH)\n",
    "alexnet_rdms.shape"
   ]
  },
  {
   "cell_type": "code",
   "execution_count": 9,
   "metadata": {},
   "outputs": [
    {
     "data": {
      "text/plain": [
       "(2, 21, 92, 92)"
      ]
     },
     "execution_count": 9,
     "metadata": {},
     "output_type": "execute_result"
    }
   ],
   "source": [
    "rn18_rdms = np.load(RN18_PATH)\n",
    "rn18_rdms.shape"
   ]
  },
  {
   "cell_type": "code",
   "execution_count": 10,
   "metadata": {},
   "outputs": [
    {
     "data": {
      "text/plain": [
       "(2, 37, 92, 92)"
      ]
     },
     "execution_count": 10,
     "metadata": {},
     "output_type": "execute_result"
    }
   ],
   "source": [
    "rn34_rdms = np.load(RN34_PATH)\n",
    "rn34_rdms.shape"
   ]
  },
  {
   "cell_type": "code",
   "execution_count": 11,
   "metadata": {},
   "outputs": [
    {
     "data": {
      "text/plain": [
       "(2, 54, 92, 92)"
      ]
     },
     "execution_count": 11,
     "metadata": {},
     "output_type": "execute_result"
    }
   ],
   "source": [
    "rn50_rdm = np.load(RN50_PATH)\n",
    "rn50_mod_rdm = np.load(RN50_MOD_PATH)\n",
    "rn50_rdms = np.asarray([rn50_rdm, rn50_mod_rdm])\n",
    "rn50_rdms.shape"
   ]
  },
  {
   "cell_type": "code",
   "execution_count": 12,
   "metadata": {},
   "outputs": [
    {
     "data": {
      "text/plain": [
       "(2, 105, 92, 92)"
      ]
     },
     "execution_count": 12,
     "metadata": {},
     "output_type": "execute_result"
    }
   ],
   "source": [
    "rn101_rdm = np.load(RN101_PATH)\n",
    "rn101_mod_rdm = np.load(RN101_MOD_PATH)\n",
    "rn101_rdms = np.asarray([rn101_rdm, rn101_mod_rdm])\n",
    "rn101_rdms.shape"
   ]
  },
  {
   "cell_type": "code",
   "execution_count": 13,
   "metadata": {},
   "outputs": [
    {
     "data": {
      "text/plain": [
       "(2, 156, 92, 92)"
      ]
     },
     "execution_count": 13,
     "metadata": {},
     "output_type": "execute_result"
    }
   ],
   "source": [
    "rn152_rdm = np.load(RN152_PATH)\n",
    "rn152_mod_rdm = np.load(RN152_MOD_PATH)\n",
    "rn152_rdms = np.asarray([rn152_rdm, rn152_mod_rdm])\n",
    "rn152_rdms.shape"
   ]
  },
  {
   "attachments": {},
   "cell_type": "markdown",
   "metadata": {},
   "source": [
    "# Spearman Rank Correlation"
   ]
  },
  {
   "attachments": {},
   "cell_type": "markdown",
   "metadata": {},
   "source": [
    "Doing a kind of preliminary analysis for the Assignment 4 presentation:\n",
    "\n",
    "Look at AlexNet layer activations. \n",
    "\n",
    "For each ROI, look at the average Spearman rank correlation between the AlexNet layer activation and all of the subjects.\n",
    "\n",
    "Plot this as a bar graph for each of the layers. "
   ]
  },
  {
   "attachments": {},
   "cell_type": "markdown",
   "metadata": {},
   "source": [
    "## AlexNet"
   ]
  },
  {
   "cell_type": "code",
   "execution_count": 14,
   "metadata": {},
   "outputs": [],
   "source": [
    "alexnet_srcs = np.zeros((alexnet_rdms.shape[1], 4, 4)) # first dim (alexnet layer), second dim (ROI), third dim (subject)\n",
    "\n",
    "# iterate through alexnet layers\n",
    "for i in range(alexnet_rdms.shape[1]):\n",
    "    layer_rdm = alexnet_rdms[1, i]\n",
    "\n",
    "    # iterate through rois\n",
    "    for roi in ROIS:\n",
    "\n",
    "        # iterate through subjects\n",
    "        for subj, _ in enumerate(SUBJECTS):\n",
    "\n",
    "            # get subject RDM\n",
    "            subj_rdm = human_rdms[roi, subj]\n",
    "            \n",
    "            # calculate spearman correlation\n",
    "            res = spearmanr(layer_rdm, subj_rdm, axis=None)\n",
    "\n",
    "            alexnet_srcs[i, roi, subj] = res.statistic"
   ]
  },
  {
   "cell_type": "code",
   "execution_count": 15,
   "metadata": {},
   "outputs": [],
   "source": [
    "# get averages for each layer\n",
    "alexnet_layer_avgs = np.mean(alexnet_srcs, axis=2)"
   ]
  },
  {
   "cell_type": "code",
   "execution_count": 16,
   "metadata": {},
   "outputs": [
    {
     "data": {
      "image/png": "[encoded data removed]",
      "text/plain": [
       "<Figure size 640x480 with 1 Axes>"
      ]
     },
     "metadata": {},
     "output_type": "display_data"
    }
   ],
   "source": [
    "# plot the different layers/regions\n",
    "x = np.arange(alexnet_layer_avgs.shape[0])\n",
    "alexnet_layer_names = ['CONV1', 'CONV2', 'CONV3', 'CONV4', 'CONV5', 'FC6', 'FC7', 'FC8']\n",
    "\n",
    "plt.bar(x - 0.2, alexnet_layer_avgs[:, 0], 0.2, label = 'lFFA')\n",
    "plt.bar(x, alexnet_layer_avgs[:, 1], 0.2, label = 'rFFA')\n",
    "plt.bar(x + 0.2, alexnet_layer_avgs[:, 2], 0.2, label = 'lPPA')\n",
    "plt.bar(x + 0.4, alexnet_layer_avgs[:, 3], 0.2, label = 'rPPA')\n",
    "\n",
    "\n",
    "plt.axhline(y=0, color='gray', linewidth=0.5, linestyle='-')\n",
    "plt.xticks(x, alexnet_layer_names)\n",
    "plt.xlabel(\"AlexNet Layers\")\n",
    "plt.ylabel(\"Average Spearman Rank Correlation\")\n",
    "plt.title(\"Similarity Between AlexNet and Human (MODIFIED)\")\n",
    "plt.legend()\n",
    "plt.show()"
   ]
  },
  {
   "attachments": {},
   "cell_type": "markdown",
   "metadata": {},
   "source": [
    "## ResNet18"
   ]
  },
  {
   "cell_type": "code",
   "execution_count": 17,
   "metadata": {},
   "outputs": [],
   "source": [
    "rn18_srcs = np.zeros((rn18_rdms.shape[1], 4, 4)) # first dim (resnet layer), second dim (ROI), third dim (subject)\n",
    "\n",
    "# iterate through alexnet layers\n",
    "for i in range(rn18_rdms.shape[1]):\n",
    "    layer_rdm = rn18_rdms[1, i]\n",
    "\n",
    "    # iterate through rois\n",
    "    for roi in ROIS:\n",
    "\n",
    "        # iterate through subjects\n",
    "        for subj, _ in enumerate(SUBJECTS):\n",
    "\n",
    "            # get subject RDM\n",
    "            subj_rdm = human_rdms[roi, subj]\n",
    "            \n",
    "            # calculate spearman correlation\n",
    "            res = spearmanr(layer_rdm, subj_rdm, axis=None)\n",
    "\n",
    "            rn18_srcs[i, roi, subj] = res.statistic\n",
    "\n",
    "# get averages for each layer\n",
    "rn18_layer_avgs = np.mean(rn18_srcs, axis=2)"
   ]
  },
  {
   "cell_type": "code",
   "execution_count": 18,
   "metadata": {},
   "outputs": [],
   "source": [
    "rn18_layer_names = ['C1',\n",
    "                    'C2',\n",
    "                    'C3',\n",
    "                    'C4',\n",
    "                    'C5',\n",
    "                    'C6',\n",
    "                    'C7',\n",
    "                    'C8',\n",
    "                    'C9',\n",
    "                    'C10',\n",
    "                    'C11',\n",
    "                    'C12',\n",
    "                    'C13',\n",
    "                    'C14',\n",
    "                    'C15',\n",
    "                    'C16',\n",
    "                    'C17',\n",
    "                    'C18',\n",
    "                    'C19',\n",
    "                    'C20',\n",
    "                    'FC21',]"
   ]
  },
  {
   "cell_type": "code",
   "execution_count": 19,
   "metadata": {},
   "outputs": [
    {
     "data": {
      "image/png": "[encoded data removed]",
      "text/plain": [
       "<Figure size 1000x600 with 1 Axes>"
      ]
     },
     "metadata": {},
     "output_type": "display_data"
    }
   ],
   "source": [
    "# plot the different layers/regions\n",
    "plt.figure(figsize=(10,6))\n",
    "x = np.arange(rn18_layer_avgs.shape[0])\n",
    "\n",
    "plt.bar(x - 0.2, rn18_layer_avgs[:, 0], 0.2, label = 'lFFA')\n",
    "plt.bar(x, rn18_layer_avgs[:, 1], 0.2, label = 'rFFA')\n",
    "plt.bar(x + 0.2, rn18_layer_avgs[:, 2], 0.2, label = 'lPPA')\n",
    "plt.bar(x + 0.4, rn18_layer_avgs[:, 3], 0.2, label = 'rPPA')\n",
    "\n",
    "\n",
    "plt.axhline(y=0, color='gray', linewidth=0.5, linestyle='-')\n",
    "plt.xticks(x, rn18_layer_names)\n",
    "plt.xlabel(\"ResNet18 Layers\")\n",
    "plt.ylabel(\"Average Spearman Rank Correlation\")\n",
    "plt.title(\"Similarity Between ResNet18 and Human (MODIFIED)\")\n",
    "plt.legend()\n",
    "plt.show()"
   ]
  },
  {
   "attachments": {},
   "cell_type": "markdown",
   "metadata": {},
   "source": [
    "# Mapping Matrix (Human/CNN)"
   ]
  },
  {
   "attachments": {},
   "cell_type": "markdown",
   "metadata": {},
   "source": [
    "## Function to generate"
   ]
  },
  {
   "cell_type": "code",
   "execution_count": 20,
   "metadata": {},
   "outputs": [],
   "source": [
    "SIG_THRESH = 0.001"
   ]
  },
  {
   "cell_type": "code",
   "execution_count": 21,
   "metadata": {},
   "outputs": [],
   "source": [
    "def build_map(corr_sum, n_sig):\n",
    "    if n_sig == 0:\n",
    "        return 0\n",
    "    else:\n",
    "        return corr_sum / n_sig"
   ]
  },
  {
   "cell_type": "code",
   "execution_count": 22,
   "metadata": {},
   "outputs": [],
   "source": [
    "def build_network_map(network_rdms, image_mod):\n",
    "   relevant_rdms = network_rdms[image_mod]\n",
    "   n_network_layers = relevant_rdms.shape[0]\n",
    "\n",
    "   # set up relevant results\n",
    "   network_map = np.zeros([N_ROIS, n_network_layers])\n",
    "   network_corrs = np.zeros([N_ROIS, n_network_layers])\n",
    "   network_signs = np.zeros([N_ROIS, n_network_layers])\n",
    "   \n",
    "   # for each layer\n",
    "   for i in range(n_network_layers):\n",
    "      \n",
    "      network_rdm = relevant_rdms[i]\n",
    "\n",
    "      # Create null distribution of correlations between layer and permuted human RDMs\n",
    "      permuted_corrs = []\n",
    "\n",
    "      for j in range(comb_B):\n",
    "         res = spearmanr(network_rdm, comb_human_perm_data[i], axis=None)\n",
    "         permuted_corrs.append(res.statistic)\n",
    "\n",
    "      lower_sig_bound = np.quantile(permuted_corrs, SIG_THRESH)\n",
    "      upper_sig_bound = np.quantile(permuted_corrs, 1-SIG_THRESH)\n",
    "\n",
    "      # find correlations and their significance\n",
    "      # look at a specific ROI\n",
    "      for k in range(N_ROIS):\n",
    "         \n",
    "         # look at each human\n",
    "         for l in range(N_SUBJECTS):\n",
    "\n",
    "            tmp1 = network_corrs[k, i]\n",
    "            tmp2 = network_signs[k, i]\n",
    "\n",
    "            # calculate correlation\n",
    "            res = spearmanr(network_rdm, human_rdms[l,k], axis=None)\n",
    "            res_corr = res.statistic\n",
    "\n",
    "            # add correlation to sum\n",
    "            network_corrs[k, i] = tmp1 + res_corr\n",
    "\n",
    "            # check if correlation is sigificant\n",
    "            if (res_corr < lower_sig_bound) | (res_corr > upper_sig_bound):\n",
    "                  network_signs[k, i] = tmp2 + 1   \n",
    "\n",
    "      # build mapping matrix  \n",
    "      for m in range(N_ROIS):\n",
    "         for n in range(n_network_layers):\n",
    "            network_map[m,n] = build_map(network_corrs[m,n], network_signs[m,n]) \n",
    "\n",
    "   return network_map"
   ]
  },
  {
   "attachments": {},
   "cell_type": "markdown",
   "metadata": {},
   "source": [
    "### AlexNet"
   ]
  },
  {
   "cell_type": "code",
   "execution_count": 21,
   "metadata": {},
   "outputs": [],
   "source": [
    "alexnet_map = build_network_map(alexnet_rdms, 0) # takes ~3.5 min"
   ]
  },
  {
   "cell_type": "code",
   "execution_count": 22,
   "metadata": {},
   "outputs": [],
   "source": [
    "np.save(MAP_PATH + 'alexnet_map.npy', alexnet_map)"
   ]
  },
  {
   "cell_type": "code",
   "execution_count": 23,
   "metadata": {},
   "outputs": [
    {
     "data": {
      "image/png": "[encoded data removed]",
      "text/plain": [
       "<Figure size 640x480 with 2 Axes>"
      ]
     },
     "metadata": {},
     "output_type": "display_data"
    }
   ],
   "source": [
    "plt.imshow(alexnet_map, cmap='bwr')\n",
    "plt.colorbar();"
   ]
  },
  {
   "cell_type": "code",
   "execution_count": 29,
   "metadata": {},
   "outputs": [],
   "source": [
    "alexnet_mod_map = build_network_map(alexnet_rdms, 1) # takes ~3.5 min"
   ]
  },
  {
   "cell_type": "code",
   "execution_count": 119,
   "metadata": {},
   "outputs": [],
   "source": [
    "np.save(MAP_PATH + 'alexnet_mod_map.npy', alexnet_mod_map)"
   ]
  },
  {
   "cell_type": "code",
   "execution_count": 31,
   "metadata": {},
   "outputs": [
    {
     "data": {
      "image/png": "[encoded data removed]",
      "text/plain": [
       "<Figure size 640x480 with 2 Axes>"
      ]
     },
     "metadata": {},
     "output_type": "display_data"
    }
   ],
   "source": [
    "plt.imshow(alexnet_mod_map, cmap='bwr')\n",
    "plt.colorbar();"
   ]
  },
  {
   "attachments": {},
   "cell_type": "markdown",
   "metadata": {},
   "source": [
    "### ResNet18"
   ]
  },
  {
   "cell_type": "code",
   "execution_count": 120,
   "metadata": {},
   "outputs": [
    {
     "ename": "KeyboardInterrupt",
     "evalue": "",
     "output_type": "error",
     "traceback": [
      "\u001b[0;31m---------------------------------------------------------------------------\u001b[0m",
      "\u001b[0;31mKeyboardInterrupt\u001b[0m                         Traceback (most recent call last)",
      "Cell \u001b[0;32mIn[120], line 1\u001b[0m\n\u001b[0;32m----> 1\u001b[0m rn18_map \u001b[39m=\u001b[39m build_network_map(rn18_rdms, \u001b[39m0\u001b[39;49m) \u001b[39m# took 9.5 min\u001b[39;00m\n\u001b[1;32m      2\u001b[0m np\u001b[39m.\u001b[39msave(MAP_PATH \u001b[39m+\u001b[39m \u001b[39m'\u001b[39m\u001b[39mrn18_map.npy\u001b[39m\u001b[39m'\u001b[39m, rn18_map)\n",
      "Cell \u001b[0;32mIn[25], line 19\u001b[0m, in \u001b[0;36mbuild_network_map\u001b[0;34m(network_rdms, image_mod)\u001b[0m\n\u001b[1;32m     16\u001b[0m permuted_corrs \u001b[39m=\u001b[39m []\n\u001b[1;32m     18\u001b[0m \u001b[39mfor\u001b[39;00m j \u001b[39min\u001b[39;00m \u001b[39mrange\u001b[39m(comb_B):\n\u001b[0;32m---> 19\u001b[0m    res \u001b[39m=\u001b[39m spearmanr(network_rdm, comb_human_perm_data[i], axis\u001b[39m=\u001b[39;49m\u001b[39mNone\u001b[39;49;00m)\n\u001b[1;32m     20\u001b[0m    permuted_corrs\u001b[39m.\u001b[39mappend(res\u001b[39m.\u001b[39mstatistic)\n\u001b[1;32m     22\u001b[0m lower_sig_bound \u001b[39m=\u001b[39m np\u001b[39m.\u001b[39mquantile(permuted_corrs, SIG_THRESH)\n",
      "File \u001b[0;32m~/miniconda3/envs/neuro/lib/python3.10/site-packages/scipy/stats/_stats_py.py:4950\u001b[0m, in \u001b[0;36mspearmanr\u001b[0;34m(a, b, axis, nan_policy, alternative)\u001b[0m\n\u001b[1;32m   4945\u001b[0m         \u001b[39melse\u001b[39;00m:\n\u001b[1;32m   4946\u001b[0m             \u001b[39m# Keep track of variables with NaNs, set the outputs to NaN\u001b[39;00m\n\u001b[1;32m   4947\u001b[0m             \u001b[39m# only for those variables\u001b[39;00m\n\u001b[1;32m   4948\u001b[0m             variable_has_nan \u001b[39m=\u001b[39m np\u001b[39m.\u001b[39misnan(a)\u001b[39m.\u001b[39many(axis\u001b[39m=\u001b[39maxisout)\n\u001b[0;32m-> 4950\u001b[0m a_ranked \u001b[39m=\u001b[39m np\u001b[39m.\u001b[39;49mapply_along_axis(rankdata, axisout, a)\n\u001b[1;32m   4951\u001b[0m rs \u001b[39m=\u001b[39m np\u001b[39m.\u001b[39mcorrcoef(a_ranked, rowvar\u001b[39m=\u001b[39maxisout)\n\u001b[1;32m   4952\u001b[0m dof \u001b[39m=\u001b[39m n_obs \u001b[39m-\u001b[39m \u001b[39m2\u001b[39m  \u001b[39m# degrees of freedom\u001b[39;00m\n",
      "File \u001b[0;32m<__array_function__ internals>:180\u001b[0m, in \u001b[0;36mapply_along_axis\u001b[0;34m(*args, **kwargs)\u001b[0m\n",
      "File \u001b[0;32m~/miniconda3/envs/neuro/lib/python3.10/site-packages/numpy/lib/shape_base.py:379\u001b[0m, in \u001b[0;36mapply_along_axis\u001b[0;34m(func1d, axis, arr, *args, **kwargs)\u001b[0m\n\u001b[1;32m    375\u001b[0m \u001b[39mexcept\u001b[39;00m \u001b[39mStopIteration\u001b[39;00m \u001b[39mas\u001b[39;00m e:\n\u001b[1;32m    376\u001b[0m     \u001b[39mraise\u001b[39;00m \u001b[39mValueError\u001b[39;00m(\n\u001b[1;32m    377\u001b[0m         \u001b[39m'\u001b[39m\u001b[39mCannot apply_along_axis when any iteration dimensions are 0\u001b[39m\u001b[39m'\u001b[39m\n\u001b[1;32m    378\u001b[0m     ) \u001b[39mfrom\u001b[39;00m \u001b[39mNone\u001b[39m\n\u001b[0;32m--> 379\u001b[0m res \u001b[39m=\u001b[39m asanyarray(func1d(inarr_view[ind0], \u001b[39m*\u001b[39;49margs, \u001b[39m*\u001b[39;49m\u001b[39m*\u001b[39;49mkwargs))\n\u001b[1;32m    381\u001b[0m \u001b[39m# build a buffer for storing evaluations of func1d.\u001b[39;00m\n\u001b[1;32m    382\u001b[0m \u001b[39m# remove the requested axis, and add the new ones on the end.\u001b[39;00m\n\u001b[1;32m    383\u001b[0m \u001b[39m# laid out so that each write is contiguous.\u001b[39;00m\n\u001b[1;32m    384\u001b[0m \u001b[39m# for a tuple index inds, buff[inds] = func1d(inarr_view[inds])\u001b[39;00m\n\u001b[1;32m    385\u001b[0m buff \u001b[39m=\u001b[39m zeros(inarr_view\u001b[39m.\u001b[39mshape[:\u001b[39m-\u001b[39m\u001b[39m1\u001b[39m] \u001b[39m+\u001b[39m res\u001b[39m.\u001b[39mshape, res\u001b[39m.\u001b[39mdtype)\n",
      "File \u001b[0;32m~/miniconda3/envs/neuro/lib/python3.10/site-packages/scipy/stats/_stats_py.py:9510\u001b[0m, in \u001b[0;36mrankdata\u001b[0;34m(a, method, axis, nan_policy)\u001b[0m\n\u001b[1;32m   9507\u001b[0m         \u001b[39mreturn\u001b[39;00m np\u001b[39m.\u001b[39mfull_like(arr, np\u001b[39m.\u001b[39mnan)\n\u001b[1;32m   9509\u001b[0m algo \u001b[39m=\u001b[39m \u001b[39m'\u001b[39m\u001b[39mmergesort\u001b[39m\u001b[39m'\u001b[39m \u001b[39mif\u001b[39;00m method \u001b[39m==\u001b[39m \u001b[39m'\u001b[39m\u001b[39mordinal\u001b[39m\u001b[39m'\u001b[39m \u001b[39melse\u001b[39;00m \u001b[39m'\u001b[39m\u001b[39mquicksort\u001b[39m\u001b[39m'\u001b[39m\n\u001b[0;32m-> 9510\u001b[0m sorter \u001b[39m=\u001b[39m np\u001b[39m.\u001b[39;49margsort(arr, kind\u001b[39m=\u001b[39;49malgo)\n\u001b[1;32m   9512\u001b[0m inv \u001b[39m=\u001b[39m np\u001b[39m.\u001b[39mempty(sorter\u001b[39m.\u001b[39msize, dtype\u001b[39m=\u001b[39mnp\u001b[39m.\u001b[39mintp)\n\u001b[1;32m   9513\u001b[0m inv[sorter] \u001b[39m=\u001b[39m np\u001b[39m.\u001b[39marange(sorter\u001b[39m.\u001b[39msize, dtype\u001b[39m=\u001b[39mnp\u001b[39m.\u001b[39mintp)\n",
      "File \u001b[0;32m<__array_function__ internals>:180\u001b[0m, in \u001b[0;36margsort\u001b[0;34m(*args, **kwargs)\u001b[0m\n",
      "File \u001b[0;32m~/miniconda3/envs/neuro/lib/python3.10/site-packages/numpy/core/fromnumeric.py:1120\u001b[0m, in \u001b[0;36margsort\u001b[0;34m(a, axis, kind, order)\u001b[0m\n\u001b[1;32m   1012\u001b[0m \u001b[39m@array_function_dispatch\u001b[39m(_argsort_dispatcher)\n\u001b[1;32m   1013\u001b[0m \u001b[39mdef\u001b[39;00m \u001b[39margsort\u001b[39m(a, axis\u001b[39m=\u001b[39m\u001b[39m-\u001b[39m\u001b[39m1\u001b[39m, kind\u001b[39m=\u001b[39m\u001b[39mNone\u001b[39;00m, order\u001b[39m=\u001b[39m\u001b[39mNone\u001b[39;00m):\n\u001b[1;32m   1014\u001b[0m     \u001b[39m\"\"\"\u001b[39;00m\n\u001b[1;32m   1015\u001b[0m \u001b[39m    Returns the indices that would sort an array.\u001b[39;00m\n\u001b[1;32m   1016\u001b[0m \n\u001b[0;32m   (...)\u001b[0m\n\u001b[1;32m   1118\u001b[0m \n\u001b[1;32m   1119\u001b[0m \u001b[39m    \"\"\"\u001b[39;00m\n\u001b[0;32m-> 1120\u001b[0m     \u001b[39mreturn\u001b[39;00m _wrapfunc(a, \u001b[39m'\u001b[39;49m\u001b[39margsort\u001b[39;49m\u001b[39m'\u001b[39;49m, axis\u001b[39m=\u001b[39;49maxis, kind\u001b[39m=\u001b[39;49mkind, order\u001b[39m=\u001b[39;49morder)\n",
      "File \u001b[0;32m~/miniconda3/envs/neuro/lib/python3.10/site-packages/numpy/core/fromnumeric.py:57\u001b[0m, in \u001b[0;36m_wrapfunc\u001b[0;34m(obj, method, *args, **kwds)\u001b[0m\n\u001b[1;32m     54\u001b[0m     \u001b[39mreturn\u001b[39;00m _wrapit(obj, method, \u001b[39m*\u001b[39margs, \u001b[39m*\u001b[39m\u001b[39m*\u001b[39mkwds)\n\u001b[1;32m     56\u001b[0m \u001b[39mtry\u001b[39;00m:\n\u001b[0;32m---> 57\u001b[0m     \u001b[39mreturn\u001b[39;00m bound(\u001b[39m*\u001b[39;49margs, \u001b[39m*\u001b[39;49m\u001b[39m*\u001b[39;49mkwds)\n\u001b[1;32m     58\u001b[0m \u001b[39mexcept\u001b[39;00m \u001b[39mTypeError\u001b[39;00m:\n\u001b[1;32m     59\u001b[0m     \u001b[39m# A TypeError occurs if the object does have such a method in its\u001b[39;00m\n\u001b[1;32m     60\u001b[0m     \u001b[39m# class, but its signature is not identical to that of NumPy's. This\u001b[39;00m\n\u001b[0;32m   (...)\u001b[0m\n\u001b[1;32m     64\u001b[0m     \u001b[39m# Call _wrapit from within the except clause to ensure a potential\u001b[39;00m\n\u001b[1;32m     65\u001b[0m     \u001b[39m# exception has a traceback chain.\u001b[39;00m\n\u001b[1;32m     66\u001b[0m     \u001b[39mreturn\u001b[39;00m _wrapit(obj, method, \u001b[39m*\u001b[39margs, \u001b[39m*\u001b[39m\u001b[39m*\u001b[39mkwds)\n",
      "\u001b[0;31mKeyboardInterrupt\u001b[0m: "
     ]
    }
   ],
   "source": [
    "rn18_map = build_network_map(rn18_rdms, 0) # took 9.5 min\n",
    "np.save(MAP_PATH + 'rn18_map.npy', rn18_map) "
   ]
  },
  {
   "cell_type": "code",
   "execution_count": 167,
   "metadata": {},
   "outputs": [
    {
     "data": {
      "image/png": "[encoded data removed]",
      "text/plain": [
       "<Figure size 640x480 with 2 Axes>"
      ]
     },
     "metadata": {},
     "output_type": "display_data"
    }
   ],
   "source": [
    "plt.imshow(rn18_map, cmap='bwr')\n",
    "plt.colorbar();"
   ]
  },
  {
   "cell_type": "code",
   "execution_count": 110,
   "metadata": {},
   "outputs": [],
   "source": [
    "rn18_mod_map = build_network_map(rn18_rdms, 1)\n",
    "np.save(MAP_PATH + 'rn18_mod_map.npy', rn18_mod_map)"
   ]
  },
  {
   "cell_type": "code",
   "execution_count": 121,
   "metadata": {},
   "outputs": [
    {
     "data": {
      "image/png": "[encoded data removed]",
      "text/plain": [
       "<Figure size 640x480 with 2 Axes>"
      ]
     },
     "metadata": {},
     "output_type": "display_data"
    }
   ],
   "source": [
    "plt.imshow(rn18_mod_map, cmap='bwr')\n",
    "plt.colorbar();"
   ]
  },
  {
   "attachments": {},
   "cell_type": "markdown",
   "metadata": {},
   "source": [
    "### ResNet34"
   ]
  },
  {
   "cell_type": "code",
   "execution_count": null,
   "metadata": {},
   "outputs": [],
   "source": [
    "rn34_map = build_network_map(rn34_rdms, 0)\n",
    "np.save(MAP_PATH + 'rn34_map.npy', rn34_map) "
   ]
  },
  {
   "cell_type": "code",
   "execution_count": null,
   "metadata": {},
   "outputs": [],
   "source": [
    "rn34_mod_map = build_network_map(rn34_rdms, 1)\n",
    "np.save(MAP_PATH + 'rn34_mod_map.npy', rn34_mod_map) "
   ]
  },
  {
   "attachments": {},
   "cell_type": "markdown",
   "metadata": {},
   "source": [
    "### ResNet50"
   ]
  },
  {
   "cell_type": "code",
   "execution_count": null,
   "metadata": {},
   "outputs": [],
   "source": [
    "rn50_map = build_network_map(rn50_rdms, 0)\n",
    "np.save(MAP_PATH + 'rn50_map.npy', rn50_map) "
   ]
  },
  {
   "cell_type": "code",
   "execution_count": null,
   "metadata": {},
   "outputs": [],
   "source": [
    "rn50_mod_map = build_network_map(rn50_rdms, 1)\n",
    "np.save(MAP_PATH + 'rn50_mod_map.npy', rn50_mod_map) "
   ]
  },
  {
   "attachments": {},
   "cell_type": "markdown",
   "metadata": {},
   "source": [
    "### ResNet101"
   ]
  },
  {
   "cell_type": "code",
   "execution_count": null,
   "metadata": {},
   "outputs": [],
   "source": [
    "rn101_map = build_network_map(rn101_rdms, 0)\n",
    "np.save(MAP_PATH + 'rn101_map.npy', rn101_map) "
   ]
  },
  {
   "cell_type": "code",
   "execution_count": null,
   "metadata": {},
   "outputs": [],
   "source": [
    "rn101_mod_map = build_network_map(rn101_rdms, 1)\n",
    "np.save(MAP_PATH + 'rn101_mod_map.npy', rn101_mod_map) "
   ]
  },
  {
   "attachments": {},
   "cell_type": "markdown",
   "metadata": {},
   "source": [
    "### ResNet152"
   ]
  },
  {
   "cell_type": "code",
   "execution_count": null,
   "metadata": {},
   "outputs": [],
   "source": [
    "rn152_map = build_network_map(rn152_rdms, 0)\n",
    "np.save(MAP_PATH + 'rn152_map.npy', rn152_map) "
   ]
  },
  {
   "cell_type": "code",
   "execution_count": null,
   "metadata": {},
   "outputs": [],
   "source": [
    "rn152_mod_map = build_network_map(rn152_rdms, 1)\n",
    "np.save(MAP_PATH + 'rn152_mod_map.npy', rn152_mod_map) "
   ]
  },
  {
   "attachments": {},
   "cell_type": "markdown",
   "metadata": {},
   "source": [
    "# Mapping Matrix (CNN only)"
   ]
  },
  {
   "attachments": {},
   "cell_type": "markdown",
   "metadata": {},
   "source": [
    "## Function to generate"
   ]
  },
  {
   "cell_type": "code",
   "execution_count": 50,
   "metadata": {},
   "outputs": [],
   "source": [
    "def build_layer_map(network_rdms, image_mod):\n",
    "    # get number of layers\n",
    "    n_layers = network_rdms.shape[1]\n",
    "\n",
    "    # create matrix to store layer correlations\n",
    "    layer_matrix = np.zeros([n_layers, n_layers])\n",
    "\n",
    "    # calculate layer correlations and add to matrix\n",
    "    for i in range(n_layers):\n",
    "        for j in range(n_layers):\n",
    "            if i <= j:\n",
    "                corr = spearmanr(network_rdms[image_mod, i], network_rdms[image_mod, j], axis=None).statistic\n",
    "                layer_matrix[i, j] = layer_matrix[j, i] = corr\n",
    "    \n",
    "    return layer_matrix"
   ]
  },
  {
   "attachments": {},
   "cell_type": "markdown",
   "metadata": {},
   "source": [
    "### AlexNet"
   ]
  },
  {
   "cell_type": "code",
   "execution_count": 69,
   "metadata": {},
   "outputs": [],
   "source": [
    "alexnet_layer_corrs = build_layer_map(alexnet_rdms, 0)\n",
    "alexnet_mod_layer_corrs = build_layer_map(alexnet_rdms, 1)\n",
    "np.savez_compressed(MAP_PATH + 'alexnet_layer_corrs', np.asarray([alexnet_layer_corrs, alexnet_mod_layer_corrs]))"
   ]
  },
  {
   "attachments": {},
   "cell_type": "markdown",
   "metadata": {},
   "source": [
    "### ResNet18"
   ]
  },
  {
   "cell_type": "code",
   "execution_count": 70,
   "metadata": {},
   "outputs": [],
   "source": [
    "rn18_layer_corrs = build_layer_map(rn18_rdms, 0)\n",
    "rn18_mod_layer_corrs = build_layer_map(rn18_rdms, 1)\n",
    "np.savez_compressed(MAP_PATH + 'rn18_layer_corrs', np.asarray([rn18_layer_corrs, rn18_mod_layer_corrs]))"
   ]
  },
  {
   "attachments": {},
   "cell_type": "markdown",
   "metadata": {},
   "source": [
    "### ResNet34"
   ]
  },
  {
   "cell_type": "code",
   "execution_count": 71,
   "metadata": {},
   "outputs": [],
   "source": [
    "rn34_layer_corrs = build_layer_map(rn34_rdms, 0)\n",
    "rn34_mod_layer_corrs = build_layer_map(rn34_rdms, 1)\n",
    "np.savez_compressed(MAP_PATH + 'rn34_layer_corrs', np.asarray([rn34_layer_corrs, rn34_mod_layer_corrs]))"
   ]
  },
  {
   "attachments": {},
   "cell_type": "markdown",
   "metadata": {},
   "source": [
    "### ResNet50"
   ]
  },
  {
   "cell_type": "code",
   "execution_count": 72,
   "metadata": {},
   "outputs": [],
   "source": [
    "rn50_layer_corrs = build_layer_map(rn50_rdms, 0)\n",
    "rn50_mod_layer_corrs = build_layer_map(rn50_rdms, 1)\n",
    "np.savez_compressed(MAP_PATH + 'rn50_layer_corrs', np.asarray([rn50_layer_corrs, rn50_mod_layer_corrs]))"
   ]
  },
  {
   "attachments": {},
   "cell_type": "markdown",
   "metadata": {},
   "source": [
    "### ResNet101"
   ]
  },
  {
   "cell_type": "code",
   "execution_count": 73,
   "metadata": {},
   "outputs": [],
   "source": [
    "rn101_layer_corrs = build_layer_map(rn101_rdms, 0)\n",
    "rn101_mod_layer_corrs = build_layer_map(rn101_rdms, 1)\n",
    "np.savez_compressed(MAP_PATH + 'rn101_layer_corrs', np.asarray([rn101_layer_corrs, rn101_mod_layer_corrs]))"
   ]
  },
  {
   "attachments": {},
   "cell_type": "markdown",
   "metadata": {},
   "source": [
    "### ResNet152"
   ]
  },
  {
   "cell_type": "code",
   "execution_count": 74,
   "metadata": {},
   "outputs": [],
   "source": [
    "rn152_layer_corrs = build_layer_map(rn152_rdms, 0)\n",
    "rn152_mod_layer_corrs = build_layer_map(rn152_rdms, 1)\n",
    "np.savez_compressed(MAP_PATH + 'rn152_layer_corrs.npy', np.asarray([rn152_layer_corrs, rn152_mod_layer_corrs]))"
   ]
  },
  {
   "cell_type": "code",
   "execution_count": null,
   "metadata": {},
   "outputs": [],
   "source": []
  }
 ],
 "metadata": {
  "kernelspec": {
   "display_name": "neuro",
   "language": "python",
   "name": "python3"
  },
  "language_info": {
   "codemirror_mode": {
    "name": "ipython",
    "version": 3
   },
   "file_extension": ".py",
   "mimetype": "text/x-python",
   "name": "python",
   "nbconvert_exporter": "python",
   "pygments_lexer": "ipython3",
   "version": "3.10.9"
  },
  "orig_nbformat": 4
 },
 "nbformat": 4,
 "nbformat_minor": 2
}
